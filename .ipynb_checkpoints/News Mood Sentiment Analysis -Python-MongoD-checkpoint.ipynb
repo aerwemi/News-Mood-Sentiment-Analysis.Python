{
 "cells": [
  {
   "cell_type": "markdown",
   "metadata": {},
   "source": [
    "### News Mood Sentiment Analysis\n",
    "\n",
    "#### By: Naser Erwemi\n",
    "\n",
    "https://www.linkedin.com/in/aerwemi/\n",
    "\n",
    "https://github.com/aerwemi"
   ]
  },
  {
   "cell_type": "markdown",
   "metadata": {},
   "source": [
    "## Background\n",
    "\n",
    "__Twitter__ has become a wildly sprawling jungle of information&mdash;140 characters at a time. Somewhere between 350 million and 500 million tweets are estimated to be sent out _per day_. With such an explosion of data, on Twitter and elsewhere, it becomes more important than ever to tame it in some way, to concisely capture the essence of the data.\n",
    "\n",
    "## News Mood\n",
    "\n",
    "A python script to perform sentiment analysis of the Twitter activity of various news outlets, and to present your findings visually.\n",
    "\n",
    "Your final output should provide a visualized summary of the sentiments expressed in Tweets sent out by the following news organizations: __BBC, CBS, CNN, Fox, New York Times and \n",
    "The Washington Post__.\n",
    "\n",
    "\n",
    "\n",
    "The first plot will be and/or feature the following:\n",
    "\n",
    "* Be a scatter plot of sentiments of the last __100__ tweets sent out by each news organization, ranging from -1.0 to 1.0, where a score of 0 expresses a neutral sentiment, -1 the most negative sentiment possible, and +1 the most positive sentiment possible.\n",
    "* Each plot point will reflect the _compound_ sentiment of a tweet.\n",
    "* Sort each plot point by its relative timestamp.\n",
    "\n",
    "The second plot will be a bar plot visualizing the _overall_ sentiments of the last 100 tweets from each organization. For this plot, you will again aggregate the compound sentiments analyzed by VADER.\n",
    "\n",
    "The tools of the trade you will need for your task as a data analyst include the following: tweepy, pandas, matplotlib, seaborn, textblob, and VADER.\n",
    "\n",
    "Included analysis:\n",
    "\n",
    "* Pull last 100 tweets from each outlet.\n",
    "* Sentiment analysis with the compound, positive, neutral, and negative scoring for each tweet. \n",
    "* A DataFrame the tweet's source account, its text, its date, and its compound, positive, neutral, and negative sentiment scores.\n",
    "* DataFrame into a CSV file.\n",
    "* PNG images for each plot."
   ]
  },
  {
   "cell_type": "markdown",
   "metadata": {},
   "source": [
    "# Studay Summary and Conclusions\n",
    "\n",
    "\n",
    "BBC and CBS has much fewer tweets and followers than other outlets.\n",
    "\n",
    "BBC and CBS tweets are more positive than other outlets. Tweets normally distributed for most of the news outlets with most of the tweets are neutral scores.\n",
    "\n",
    "BBC and CBS have similar polarity distribution. \n",
    "\n",
    "CNN, Fox, New York Times and The Washington Post have similar polarity distribution. \n",
    "\n",
    "CNN, Fox, NY time and WP are more negative than BBC can CBS with distribution slightly skewed to the negative side. \n",
    "\n",
    "Time series analysis may help understand the frequency of tweets Where BBC and CBS tweets less than other outlets. \n"
   ]
  },
  {
   "cell_type": "markdown",
   "metadata": {},
   "source": [
    "# MongoDB"
   ]
  },
  {
   "cell_type": "code",
   "execution_count": 56,
   "metadata": {
    "collapsed": true
   },
   "outputs": [],
   "source": [
    "import pymongo ###\n",
    "import time "
   ]
  },
  {
   "cell_type": "code",
   "execution_count": null,
   "metadata": {
    "collapsed": true
   },
   "outputs": [],
   "source": [
    "pymongo.Mon"
   ]
  },
  {
   "cell_type": "code",
   "execution_count": 57,
   "metadata": {
    "collapsed": true
   },
   "outputs": [],
   "source": [
    "conn = 'mongodb://localhost:27017'\n",
    "client = pymongo.MongoClient(conn)"
   ]
  },
  {
   "cell_type": "code",
   "execution_count": 58,
   "metadata": {},
   "outputs": [
    {
     "data": {
      "text/plain": [
       "MongoClient(host=['localhost:27017'], document_class=dict, tz_aware=False, connect=True)"
      ]
     },
     "execution_count": 58,
     "metadata": {},
     "output_type": "execute_result"
    }
   ],
   "source": [
    "client"
   ]
  },
  {
   "cell_type": "code",
   "execution_count": 59,
   "metadata": {
    "collapsed": true
   },
   "outputs": [],
   "source": [
    "# Declare the database\n",
    "db = client.NewsMood2\n",
    "collection = db.NewsMood2"
   ]
  },
  {
   "cell_type": "code",
   "execution_count": 63,
   "metadata": {
    "collapsed": true
   },
   "outputs": [],
   "source": [
    "import tweepy\n",
    "from config import consumer_key, consumer_secret, access_token, access_token_secret\n",
    "\n",
    "# Import and Initialize Sentiment Analyzer\n",
    "from vaderSentiment.vaderSentiment import SentimentIntensityAnalyzer\n",
    "analyzer = SentimentIntensityAnalyzer()"
   ]
  },
  {
   "cell_type": "code",
   "execution_count": 66,
   "metadata": {},
   "outputs": [
    {
     "data": {
      "text/plain": [
       "{'compound': 0.5777, 'neg': 0.0, 'neu': 0.445, 'pos': 0.555}"
      ]
     },
     "execution_count": 66,
     "metadata": {},
     "output_type": "execute_result"
    }
   ],
   "source": [
    "analyzer.polarity_scores('that is so good')"
   ]
  },
  {
   "cell_type": "code",
   "execution_count": 64,
   "metadata": {
    "collapsed": true
   },
   "outputs": [],
   "source": [
    "# Setup Tweepy API Authentication\n",
    "auth = tweepy.OAuthHandler(consumer_key, consumer_secret)\n",
    "auth.set_access_token(access_token, access_token_secret)\n",
    "api = tweepy.API(auth, parser=tweepy.parsers.JSONParser())"
   ]
  },
  {
   "cell_type": "code",
   "execution_count": 68,
   "metadata": {},
   "outputs": [
    {
     "name": "stdout",
     "output_type": "stream",
     "text": [
      "Tweets exteracted 20\n",
      "**************************************************************************************************\n"
     ]
    },
    {
     "data": {
      "text/plain": [
       "{'Date': 'Thu Jul 12 14:47:18 +0000 2018',\n",
       " 'NewsSource': 'BBC',\n",
       " 'Text': 'RT @BBCOne: Love and trust, shattered by secrets and lies. Keeping Faith from @BBCWales starring @TeamEveMyles starts tonight at 9pm on BBC…',\n",
       " '_id': ObjectId('5b4932d03a8902249c09e077'),\n",
       " 'comScore': 0.6597,\n",
       " 'negScore': 0.178,\n",
       " 'neuScore': 0.512,\n",
       " 'posScore': 0.31}"
      ]
     },
     "execution_count": 68,
     "metadata": {},
     "output_type": "execute_result"
    }
   ],
   "source": [
    "#list of the news outlet - on Tweeter \n",
    "\n",
    "#news_outlets=['CNN', 'FoxNews' , 'nytimes', 'washingtonpost'] # added WP as it is simlar to nytimes\n",
    "#news_outlets=['BBC', 'CBS', 'CNN', 'FoxNews' , 'nytimes', 'washingtonpost']\n",
    "news_outlets=['BBC']\n",
    "counter=0\n",
    "\n",
    "#Create Dir to hold extracted data \n",
    "#sentement_scores={}\n",
    "\n",
    "# if you want to delet privous tweets \n",
    "collection.delete_many({})\n",
    "\n",
    "for news_outlet in news_outlets:\n",
    "\n",
    "\n",
    "    # Create a loop to iteratively run API requests\n",
    "    time.sleep(1)\n",
    "    for tweet_page in range(1,2):\n",
    "\n",
    "        # Get all tweets from home feed (for each page specified)\n",
    "        time.sleep(1)\n",
    "        public_tweets = api.user_timeline(news_outlet, page=tweet_page)\n",
    "\n",
    "        # Loop through all tweets\n",
    "        time.sleep(1)\n",
    "        \n",
    "        for tweet in public_tweets:\n",
    "            \n",
    "\n",
    "            tweetText = tweet[\"text\"]\n",
    "            tweetDate = tweet['created_at']\n",
    "                        \n",
    "            comScore=analyzer.polarity_scores(tweetText)['compound']\n",
    "            negScore=analyzer.polarity_scores(tweetText)['neg']         \n",
    "            posScore=analyzer.polarity_scores(tweetText)['pos']\n",
    "            neuScore=analyzer.polarity_scores(tweetText)['neu']\n",
    "            \n",
    "            \n",
    "            thisTweet ={\n",
    "                'NewsSource' :news_outlet,\n",
    "                \"Date\"       :tweetDate,\n",
    "                \"Text\"       :tweetText,\n",
    "                \"comScore\"   :comScore,\n",
    "                \"negScore\"   :negScore,\n",
    "                \"posScore\"   :posScore,\n",
    "                \"neuScore\"   :neuScore\n",
    "            }\n",
    "            \n",
    "            collection.insert_one(thisTweet)\n",
    "            \n",
    "            \n",
    "            # print most neg news\n",
    "            if negScore > .55:\n",
    "                print(tweetText)\n",
    "                print(news_outlet)\n",
    "                print(f'Negative News Score (0 to 1) : {negScore}')\n",
    "\n",
    "                print(\":-(:-(:-(:-(:-(:-(:-(:-(:-(:-(:-(:-(:-(:-(:-(:-(:-(:-(:-(:-(:-(:-(:-(:-(\")\n",
    "            # print most pos news\n",
    "            if posScore > .55:\n",
    "                print(tweetText)\n",
    "                print(news_outlet)\n",
    "                print(f'Positive News Score (0 to 1): {posScore}')\n",
    "\n",
    "                print(\":-):-):-):-):-):-):-):-):-):-):-):-):-):-):-):-):-):-):-):-):-):-):-):-)\")\n",
    "                \n",
    "            time.sleep(1)\n",
    "            counter+=1\n",
    "print(f'Tweets exteracted {counter}')\n",
    "print('**************************************************************************************************')\n",
    "thisTweet"
   ]
  },
  {
   "cell_type": "code",
   "execution_count": null,
   "metadata": {
    "collapsed": true
   },
   "outputs": [],
   "source": []
  }
 ],
 "metadata": {
  "kernelspec": {
   "display_name": "Python 3",
   "language": "python",
   "name": "python3"
  },
  "language_info": {
   "codemirror_mode": {
    "name": "ipython",
    "version": 3
   },
   "file_extension": ".py",
   "mimetype": "text/x-python",
   "name": "python",
   "nbconvert_exporter": "python",
   "pygments_lexer": "ipython3",
   "version": "3.6.1"
  }
 },
 "nbformat": 4,
 "nbformat_minor": 2
}
